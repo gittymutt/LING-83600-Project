{
 "cells": [
  {
   "cell_type": "markdown",
   "metadata": {},
   "source": [
    "Determine which height can be used to classify people as\n",
    "men or women."
   ]
  },
  {
   "cell_type": "code",
   "execution_count": 2,
   "metadata": {
    "collapsed": true
   },
   "outputs": [],
   "source": [
    "import pickle"
   ]
  },
  {
   "cell_type": "code",
   "execution_count": 3,
   "metadata": {
    "collapsed": false
   },
   "outputs": [],
   "source": [
    "with open('top_100_results.pickle', 'rb') as f:\n",
    "    # Pickle the 'data' dictionary using the highest protocol available.\n",
    "    sample = pickle.load(f)"
   ]
  },
  {
   "cell_type": "code",
   "execution_count": 4,
   "metadata": {
    "collapsed": false
   },
   "outputs": [
    {
     "data": {
      "text/plain": [
       "1695"
      ]
     },
     "execution_count": 4,
     "metadata": {},
     "output_type": "execute_result"
    }
   ],
   "source": [
    "len(sample)"
   ]
  },
  {
   "cell_type": "code",
   "execution_count": 5,
   "metadata": {
    "collapsed": false
   },
   "outputs": [],
   "source": [
    "con_count = len([s for s in sample if s[0]==\"C\"])\n",
    "lib_count = len([s for s in sample if s[0]==\"L\"])"
   ]
  },
  {
   "cell_type": "code",
   "execution_count": 6,
   "metadata": {
    "collapsed": false
   },
   "outputs": [
    {
     "data": {
      "text/plain": [
       "(1169, 526)"
      ]
     },
     "execution_count": 6,
     "metadata": {},
     "output_type": "execute_result"
    }
   ],
   "source": [
    "con_count,lib_count"
   ]
  },
  {
   "cell_type": "code",
   "execution_count": 7,
   "metadata": {
    "collapsed": false
   },
   "outputs": [],
   "source": [
    "# determine how many classified as con with given amount of matches\n",
    "def classify_with(n):\n",
    "    classified = [s for s in sample if s[1] >= n]\n",
    "    return classified,len([c for c in classified if c[0]==\"C\"]),len([f for f in classified if f[0]==\"L\"])\n"
   ]
  },
  {
   "cell_type": "code",
   "execution_count": null,
   "metadata": {
    "collapsed": true
   },
   "outputs": [],
   "source": []
  },
  {
   "cell_type": "code",
   "execution_count": 8,
   "metadata": {
    "collapsed": false
   },
   "outputs": [
    {
     "data": {
      "text/plain": [
       "[(0, 1169, 526),\n",
       " (10, 1169, 526),\n",
       " (20, 1169, 523),\n",
       " (30, 1162, 505),\n",
       " (40, 1136, 462),\n",
       " (50, 1060, 370),\n",
       " (60, 944, 273),\n",
       " (70, 709, 161),\n",
       " (80, 381, 48),\n",
       " (90, 132, 7)]"
      ]
     },
     "execution_count": 8,
     "metadata": {},
     "output_type": "execute_result"
    }
   ],
   "source": [
    "# threshold, number of C, number of L\n",
    "[(i,classify_with(i)[1], classify_with(i)[2]) for i in list(range(0,100,10))]"
   ]
  },
  {
   "cell_type": "code",
   "execution_count": 16,
   "metadata": {
    "collapsed": false
   },
   "outputs": [
    {
     "name": "stdout",
     "output_type": "stream",
     "text": [
      "Best threshold number for con/lib:  61  score:  8\n",
      "# misclassified at this threshold:  257\n",
      "# correctly classified at this threshold:  932\n"
     ]
    }
   ],
   "source": [
    "# one way to do it \n",
    "best = 0\n",
    "last_accuracy_score = 0\n",
    "heights = [h[1] for h in sample]\n",
    "heights = set(heights)\n",
    "best_lib_no = 0\n",
    "best_con_no = 0\n",
    "\n",
    "for h in heights:\n",
    "    results,con_no, lib_no = classify_with(h)\n",
    "#     lib_no = len([f for f in results if f[0]==\"L\"])\n",
    "    \n",
    "    accuracy_score = con_no - lib_no\n",
    "#     print(h, accuracy_score,results)\n",
    "    if accuracy_score > last_accuracy_score:\n",
    "        best = h\n",
    "        best_con_no = con_no\n",
    "        best_lib_no = lib_no\n",
    "        \n",
    "    last_accuracy_score = accuracy_score\n",
    "    \n",
    "    \n",
    "    \n",
    "print (\"Best threshold number for con/lib: \", best, \" score: \", last_accuracy_score)\n",
    "print (\"# misclassified at this threshold: \", best_lib_no)\n",
    "print (\"# correctly classified at this threshold: \", best_con_no)"
   ]
  },
  {
   "cell_type": "code",
   "execution_count": 17,
   "metadata": {
    "collapsed": false
   },
   "outputs": [
    {
     "data": {
      "text/plain": [
       "257"
      ]
     },
     "execution_count": 17,
     "metadata": {},
     "output_type": "execute_result"
    }
   ],
   "source": [
    "best_lib_no"
   ]
  },
  {
   "cell_type": "code",
   "execution_count": 21,
   "metadata": {
    "collapsed": false
   },
   "outputs": [
    {
     "name": "stdout",
     "output_type": "stream",
     "text": [
      "10 0 1169 526\n",
      "16 -1 1169 525\n",
      "19 -2 1169 524\n",
      "22 -3 1169 523\n",
      "24 -4 1169 522\n",
      "25 -5 1168 520\n",
      "26 -6 1168 519\n",
      "27 -10 1168 515\n",
      "28 -14 1168 511\n",
      "29 -13 1165 509\n",
      "30 -14 1162 505\n",
      "31 -17 1161 501\n",
      "32 -18 1160 499\n",
      "33 -21 1160 496\n",
      "34 -24 1157 490\n",
      "35 -27 1154 484\n",
      "36 -26 1150 481\n",
      "37 -29 1148 476\n",
      "38 -29 1147 475\n",
      "39 -27 1142 472\n",
      "40 -31 1136 462\n",
      "41 -38 1131 450\n",
      "42 -36 1120 441\n",
      "43 -35 1113 435\n",
      "44 -39 1106 424\n",
      "45 -45 1099 411\n",
      "46 -45 1093 405\n",
      "47 -42 1084 399\n",
      "48 -40 1077 394\n",
      "49 -42 1068 383\n",
      "50 -47 1060 370\n",
      "51 -40 1049 366\n",
      "52 -40 1038 355\n",
      "53 -42 1030 345\n",
      "54 -41 1020 336\n",
      "55 -39 1012 330\n",
      "56 -41 1000 316\n",
      "57 -36 987 308\n",
      "58 -46 980 291\n",
      "59 -36 961 282\n",
      "60 -28 944 273\n",
      "61 -32 932 257\n",
      "62 -26 916 247\n",
      "63 -16 895 236\n",
      "64 -12 885 230\n",
      "65 2 866 225\n",
      "66 21 835 213\n",
      "67 35 809 201\n",
      "68 46 781 184\n",
      "69 71 745 173\n",
      "70 95 709 161\n",
      "71 116 669 142\n",
      "72 131 642 130\n",
      "73 157 606 120\n",
      "74 179 575 111\n",
      "75 199 541 97\n",
      "76 226 507 90\n",
      "77 240 473 70\n",
      "78 256 447 60\n",
      "79 273 422 52\n",
      "80 310 381 48\n",
      "81 329 359 45\n",
      "82 360 324 41\n",
      "83 391 287 35\n",
      "84 406 267 30\n",
      "85 419 249 25\n",
      "86 436 227 20\n",
      "87 457 202 16\n",
      "88 484 174 15\n",
      "89 505 148 10\n",
      "90 518 132 7\n",
      "91 535 114 6\n",
      "92 551 97 5\n",
      "93 563 84 4\n",
      "94 576 69 2\n",
      "95 588 57 2\n",
      "96 597 48 2\n",
      "97 614 31 2\n",
      "98 620 24 1\n",
      "99 626 18 1\n",
      "100 635 9 1\n",
      "Best threshold number for con/lib:  100  score:  635\n",
      "# of misclassified at this threthold:  1\n"
     ]
    }
   ],
   "source": [
    "# another way to do it \n",
    "# by comparing no of Cs at a certain threshold \n",
    "# to the actual number of number of Cs in the data set\n",
    "\n",
    "\n",
    "best = 0\n",
    "last_accuracy_score = 0\n",
    "heights = [h[1] for h in sample]\n",
    "heights = set(heights)\n",
    "best_lib_no = 0\n",
    "best_con_no = 0\n",
    "\n",
    "for h in heights:\n",
    "    results,con_no, lib_no = classify_with(h)\n",
    "#     lib_no = len([f for f in results if f[0]==\"L\"])\n",
    "    \n",
    "    accuracy_score = (con_count - con_no) - (lib_count- lib_no)\n",
    "    print(h, accuracy_score, con_no, lib_no)\n",
    "    if accuracy_score > last_accuracy_score:\n",
    "        best = h\n",
    "        best_con_no = con_no\n",
    "        best_lib_no = lib_no\n",
    "        \n",
    "    last_accuracy_score = accuracy_score\n",
    "    \n",
    "    \n",
    "    \n",
    "print (\"Best threshold number for con/lib: \", best, \" score: \", last_accuracy_score)\n",
    "print (\"# of misclassified at this threthold: \", best_lib_no)"
   ]
  },
  {
   "cell_type": "code",
   "execution_count": null,
   "metadata": {
    "collapsed": false
   },
   "outputs": [],
   "source": []
  },
  {
   "cell_type": "code",
   "execution_count": null,
   "metadata": {
    "collapsed": true
   },
   "outputs": [],
   "source": []
  }
 ],
 "metadata": {
  "anaconda-cloud": {},
  "kernelspec": {
   "display_name": "Python [py36]",
   "language": "python",
   "name": "Python [py36]"
  },
  "language_info": {
   "codemirror_mode": {
    "name": "ipython",
    "version": 3
   },
   "file_extension": ".py",
   "mimetype": "text/x-python",
   "name": "python",
   "nbconvert_exporter": "python",
   "pygments_lexer": "ipython3",
   "version": "3.6.2"
  }
 },
 "nbformat": 4,
 "nbformat_minor": 0
}
